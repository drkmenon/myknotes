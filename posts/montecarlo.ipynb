{
  "cells": [
    {
      "cell_type": "raw",
      "metadata": {},
      "source": [
        "---\n",
        "title: Monte carlo simulation\n",
        "date: today\n",
        "draft: true\n",
        "categories:\n",
        "   - simulation\n",
        "   - technology\n",
        "---"
      ],
      "id": "c768b217"
    },
    {
      "cell_type": "markdown",
      "metadata": {},
      "source": [
        "``` default\n",
        "install.packages(\"MASS\")\n",
        "library(MASS)\n",
        "```\n",
        "\n",
        "\n",
        "```{default}\n",
        "{r}\n",
        "# Set parameters for the Pareto distribution\n",
        "alpha <- 2 # Shape parameter\n",
        "beta <- 1  # Scale parameter\n",
        "\n",
        "# Generate Pareto distributed data\n",
        "pareto_data <- rpareto(1000, alpha, beta)\n",
        "```"
      ],
      "id": "b951fe9d"
    }
  ],
  "metadata": {
    "kernelspec": {
      "display_name": "Python 3",
      "language": "python",
      "name": "python3"
    }
  },
  "nbformat": 4,
  "nbformat_minor": 5
}